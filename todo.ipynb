{
 "cells": [
  {
   "cell_type": "code",
   "execution_count": 2,
   "metadata": {},
   "outputs": [],
   "source": [
    "import pandas as pd"
   ]
  },
  {
   "cell_type": "code",
   "execution_count": 89,
   "metadata": {},
   "outputs": [],
   "source": [
    "data = pd.read_csv(\"metadata.csv\")"
   ]
  },
  {
   "cell_type": "code",
   "execution_count": 90,
   "metadata": {},
   "outputs": [
    {
     "name": "stdout",
     "output_type": "stream",
     "text": [
      "16.042416666666664\n",
      "192509\n"
     ]
    }
   ],
   "source": [
    "N = len(data)\n",
    "sc = 5*N/1000\n",
    "mins = sc/60\n",
    "print(mins)\n",
    "print(N)"
   ]
  },
  {
   "cell_type": "code",
   "execution_count": 72,
   "metadata": {},
   "outputs": [
    {
     "ename": "KeyError",
     "evalue": "14",
     "output_type": "error",
     "traceback": [
      "\u001b[0;31m---------------------------------------------------------------------------\u001b[0m",
      "\u001b[0;31mKeyError\u001b[0m                                  Traceback (most recent call last)",
      "\u001b[0;32m<ipython-input-72-61ff364f08e4>\u001b[0m in \u001b[0;36m<module>\u001b[0;34m\u001b[0m\n\u001b[1;32m      1\u001b[0m \u001b[0mdir\u001b[0m\u001b[0;34m(\u001b[0m\u001b[0mdata\u001b[0m\u001b[0;34m)\u001b[0m\u001b[0;34m\u001b[0m\u001b[0;34m\u001b[0m\u001b[0m\n\u001b[1;32m      2\u001b[0m \u001b[0mdata\u001b[0m\u001b[0;34m[\u001b[0m\u001b[0;34m\"title\"\u001b[0m\u001b[0;34m]\u001b[0m\u001b[0;34m[\u001b[0m\u001b[0;36m0\u001b[0m\u001b[0;34m]\u001b[0m\u001b[0;34m\u001b[0m\u001b[0;34m\u001b[0m\u001b[0m\n\u001b[0;32m----> 3\u001b[0;31m \u001b[0mdata\u001b[0m\u001b[0;34m[\u001b[0m\u001b[0;34m\"abstract\"\u001b[0m\u001b[0;34m]\u001b[0m\u001b[0;34m[\u001b[0m\u001b[0;36m14\u001b[0m\u001b[0;34m]\u001b[0m\u001b[0;34m\u001b[0m\u001b[0;34m\u001b[0m\u001b[0m\n\u001b[0m\u001b[1;32m      4\u001b[0m \u001b[0mi\u001b[0m \u001b[0;34m=\u001b[0m \u001b[0;36m0\u001b[0m\u001b[0;34m\u001b[0m\u001b[0;34m\u001b[0m\u001b[0m\n\u001b[1;32m      5\u001b[0m \u001b[0;32mfor\u001b[0m \u001b[0ma\u001b[0m \u001b[0;32min\u001b[0m \u001b[0mdata\u001b[0m\u001b[0;34m[\u001b[0m\u001b[0;34m\"abstract\"\u001b[0m\u001b[0;34m]\u001b[0m\u001b[0;34m:\u001b[0m\u001b[0;34m\u001b[0m\u001b[0;34m\u001b[0m\u001b[0m\n",
      "\u001b[0;32m~/anaconda3/lib/python3.7/site-packages/pandas/core/series.py\u001b[0m in \u001b[0;36m__getitem__\u001b[0;34m(self, key)\u001b[0m\n\u001b[1;32m   1066\u001b[0m         \u001b[0mkey\u001b[0m \u001b[0;34m=\u001b[0m \u001b[0mcom\u001b[0m\u001b[0;34m.\u001b[0m\u001b[0mapply_if_callable\u001b[0m\u001b[0;34m(\u001b[0m\u001b[0mkey\u001b[0m\u001b[0;34m,\u001b[0m \u001b[0mself\u001b[0m\u001b[0;34m)\u001b[0m\u001b[0;34m\u001b[0m\u001b[0;34m\u001b[0m\u001b[0m\n\u001b[1;32m   1067\u001b[0m         \u001b[0;32mtry\u001b[0m\u001b[0;34m:\u001b[0m\u001b[0;34m\u001b[0m\u001b[0;34m\u001b[0m\u001b[0m\n\u001b[0;32m-> 1068\u001b[0;31m             \u001b[0mresult\u001b[0m \u001b[0;34m=\u001b[0m \u001b[0mself\u001b[0m\u001b[0;34m.\u001b[0m\u001b[0mindex\u001b[0m\u001b[0;34m.\u001b[0m\u001b[0mget_value\u001b[0m\u001b[0;34m(\u001b[0m\u001b[0mself\u001b[0m\u001b[0;34m,\u001b[0m \u001b[0mkey\u001b[0m\u001b[0;34m)\u001b[0m\u001b[0;34m\u001b[0m\u001b[0;34m\u001b[0m\u001b[0m\n\u001b[0m\u001b[1;32m   1069\u001b[0m \u001b[0;34m\u001b[0m\u001b[0m\n\u001b[1;32m   1070\u001b[0m             \u001b[0;32mif\u001b[0m \u001b[0;32mnot\u001b[0m \u001b[0mis_scalar\u001b[0m\u001b[0;34m(\u001b[0m\u001b[0mresult\u001b[0m\u001b[0;34m)\u001b[0m\u001b[0;34m:\u001b[0m\u001b[0;34m\u001b[0m\u001b[0;34m\u001b[0m\u001b[0m\n",
      "\u001b[0;32m~/anaconda3/lib/python3.7/site-packages/pandas/core/indexes/base.py\u001b[0m in \u001b[0;36mget_value\u001b[0;34m(self, series, key)\u001b[0m\n\u001b[1;32m   4728\u001b[0m         \u001b[0mk\u001b[0m \u001b[0;34m=\u001b[0m \u001b[0mself\u001b[0m\u001b[0;34m.\u001b[0m\u001b[0m_convert_scalar_indexer\u001b[0m\u001b[0;34m(\u001b[0m\u001b[0mk\u001b[0m\u001b[0;34m,\u001b[0m \u001b[0mkind\u001b[0m\u001b[0;34m=\u001b[0m\u001b[0;34m\"getitem\"\u001b[0m\u001b[0;34m)\u001b[0m\u001b[0;34m\u001b[0m\u001b[0;34m\u001b[0m\u001b[0m\n\u001b[1;32m   4729\u001b[0m         \u001b[0;32mtry\u001b[0m\u001b[0;34m:\u001b[0m\u001b[0;34m\u001b[0m\u001b[0;34m\u001b[0m\u001b[0m\n\u001b[0;32m-> 4730\u001b[0;31m             \u001b[0;32mreturn\u001b[0m \u001b[0mself\u001b[0m\u001b[0;34m.\u001b[0m\u001b[0m_engine\u001b[0m\u001b[0;34m.\u001b[0m\u001b[0mget_value\u001b[0m\u001b[0;34m(\u001b[0m\u001b[0ms\u001b[0m\u001b[0;34m,\u001b[0m \u001b[0mk\u001b[0m\u001b[0;34m,\u001b[0m \u001b[0mtz\u001b[0m\u001b[0;34m=\u001b[0m\u001b[0mgetattr\u001b[0m\u001b[0;34m(\u001b[0m\u001b[0mseries\u001b[0m\u001b[0;34m.\u001b[0m\u001b[0mdtype\u001b[0m\u001b[0;34m,\u001b[0m \u001b[0;34m\"tz\"\u001b[0m\u001b[0;34m,\u001b[0m \u001b[0;32mNone\u001b[0m\u001b[0;34m)\u001b[0m\u001b[0;34m)\u001b[0m\u001b[0;34m\u001b[0m\u001b[0;34m\u001b[0m\u001b[0m\n\u001b[0m\u001b[1;32m   4731\u001b[0m         \u001b[0;32mexcept\u001b[0m \u001b[0mKeyError\u001b[0m \u001b[0;32mas\u001b[0m \u001b[0me1\u001b[0m\u001b[0;34m:\u001b[0m\u001b[0;34m\u001b[0m\u001b[0;34m\u001b[0m\u001b[0m\n\u001b[1;32m   4732\u001b[0m             \u001b[0;32mif\u001b[0m \u001b[0mlen\u001b[0m\u001b[0;34m(\u001b[0m\u001b[0mself\u001b[0m\u001b[0;34m)\u001b[0m \u001b[0;34m>\u001b[0m \u001b[0;36m0\u001b[0m \u001b[0;32mand\u001b[0m \u001b[0;34m(\u001b[0m\u001b[0mself\u001b[0m\u001b[0;34m.\u001b[0m\u001b[0mholds_integer\u001b[0m\u001b[0;34m(\u001b[0m\u001b[0;34m)\u001b[0m \u001b[0;32mor\u001b[0m \u001b[0mself\u001b[0m\u001b[0;34m.\u001b[0m\u001b[0mis_boolean\u001b[0m\u001b[0;34m(\u001b[0m\u001b[0;34m)\u001b[0m\u001b[0;34m)\u001b[0m\u001b[0;34m:\u001b[0m\u001b[0;34m\u001b[0m\u001b[0;34m\u001b[0m\u001b[0m\n",
      "\u001b[0;32mpandas/_libs/index.pyx\u001b[0m in \u001b[0;36mpandas._libs.index.IndexEngine.get_value\u001b[0;34m()\u001b[0m\n",
      "\u001b[0;32mpandas/_libs/index.pyx\u001b[0m in \u001b[0;36mpandas._libs.index.IndexEngine.get_value\u001b[0;34m()\u001b[0m\n",
      "\u001b[0;32mpandas/_libs/index.pyx\u001b[0m in \u001b[0;36mpandas._libs.index.IndexEngine.get_loc\u001b[0;34m()\u001b[0m\n",
      "\u001b[0;32mpandas/_libs/hashtable_class_helper.pxi\u001b[0m in \u001b[0;36mpandas._libs.hashtable.Int64HashTable.get_item\u001b[0;34m()\u001b[0m\n",
      "\u001b[0;32mpandas/_libs/hashtable_class_helper.pxi\u001b[0m in \u001b[0;36mpandas._libs.hashtable.Int64HashTable.get_item\u001b[0;34m()\u001b[0m\n",
      "\u001b[0;31mKeyError\u001b[0m: 14"
     ]
    }
   ],
   "source": [
    "dir(data)\n",
    "data[\"title\"][0]\n",
    "data[\"abstract\"][14]\n",
    "i = 0\n",
    "for a in data[\"abstract\"]:\n",
    "    if type(a).__name__==\"float\":\n",
    "        i += 1\n",
    "        #print(a, \"!\", i)\n",
    "print(\"{}/{} articles don't have abstract: Corresponds to {}%\".format(i, len(data), i/len(data)*100))"
   ]
  },
  {
   "cell_type": "code",
   "execution_count": 104,
   "metadata": {},
   "outputs": [],
   "source": [
    "data = data.head(1_000)"
   ]
  },
  {
   "cell_type": "code",
   "execution_count": null,
   "metadata": {},
   "outputs": [],
   "source": [
    "\"\"\"\n",
    "1- Tokenization/stemming\n",
    "2- Normalize\n",
    "3- Build vocabulary after stemming\n",
    "4- Collect TF-IDF\n",
    "5- Implement the cosine similarity system mentioned in lectures\n",
    "\n",
    "\n",
    "Exception for 1 token input\n",
    "\n",
    "\n",
    "\"\"\""
   ]
  },
  {
   "cell_type": "code",
   "execution_count": 24,
   "metadata": {},
   "outputs": [],
   "source": [
    "import nltk\n",
    "from nltk.stem import PorterStemmer\n",
    "from nltk.tokenize import word_tokenize\n",
    "import numpy as np\n",
    "from collections import Counter\n",
    "from nltk.stem import WordNetLemmatizer"
   ]
  },
  {
   "cell_type": "code",
   "execution_count": 29,
   "metadata": {},
   "outputs": [],
   "source": [
    "text = data[\"abstract\"][2]\n",
    "words= [word for word in word_tokenize(text) if word.isalnum()]\n",
    "N = len(words)\n",
    "tf = np.zeros((N,))\n",
    "idf = np.zeros((N,))\n",
    "counter = Counter(words)\n",
    "porter = PorterStemmer()\n",
    "stems = [porter.stem(word) for word in words]\n",
    "lanc = LancasterStemmer()\n",
    "wordnet_lemmatizer = WordNetLemmatizer()\n",
    "stems2 = [wordnet_lemmatizer.lemmatize(word) for word in words]\n",
    "#print(stems2)\n",
    "#print(\"-\"*40)\n",
    "#print(stems)\n",
    "#print(\"-\"*40)\n",
    "#print(words)"
   ]
  },
  {
   "cell_type": "code",
   "execution_count": 111,
   "metadata": {},
   "outputs": [],
   "source": [
    "import nltk\n",
    "from nltk.stem import PorterStemmer\n",
    "from nltk.tokenize import word_tokenize\n",
    "import numpy as np\n",
    "from collections import Counter\n",
    "from nltk.stem import WordNetLemmatizer\n",
    "from scipy import spatial\n",
    "import scipy\n",
    "from sortedcontainers import SortedList\n",
    "from sklearn.metrics.pairwise import cosine_similarity\n",
    "import time\n",
    "\n",
    "\n",
    "class Document:\n",
    "    def __init__(self, tokens, word2id=None, doc_id=None, \n",
    "                 cord_uid=None, abstract=None, title=None):\n",
    "        self.tokens = tokens\n",
    "        self.doc_id = doc_id\n",
    "        self.cord_uid = cord_uid\n",
    "        self.abstract = abstract\n",
    "        self.title = title\n",
    "        self.tf_dict = Counter(tokens)\n",
    "        if word2id:\n",
    "            self.tf_vec = self.get_tf_vector_(word2id)\n",
    "            \n",
    "    def get_tf_vector_(self, word2id):\n",
    "        tokens = self.tokens\n",
    "        V = len(word2id) + 1\n",
    "        tf_vec = [0]*V\n",
    "        for token in tokens:\n",
    "            if token in word2id:\n",
    "                tf_vec[word2id[token]] += 1\n",
    "        # store as sparse matrix\n",
    "        tf_vec = scipy.sparse.csr_matrix(tf_vec)\n",
    "        tf_vec[tf_vec>0] = np.log10(tf_vec[tf_vec>0]) + 1\n",
    "        return tf_vec\n",
    "\n",
    "class TrecIR:\n",
    "    def __init__(self, corpus, process_type=\"stem\"):\n",
    "        self.corpus = corpus\n",
    "        self.process_type = process_type\n",
    "        if process_type == \"stem\":\n",
    "            self.porter = PorterStemmer()\n",
    "            self.proc_token = lambda x: self.porter.stem(x)\n",
    "        elif process_type == \"lemmatize\":\n",
    "            self.lemmatizer = WordNetLemmatizer()\n",
    "            self.proc_token = lambda x: self.lemmatizer.lemmatize(x)\n",
    "        else:\n",
    "            raise ValueError\n",
    "        \n",
    "        self.process_corpus_()\n",
    "        \n",
    "  \n",
    "    def get_ranked_docs(self, query):\n",
    "        # todo: stopword elim to speed up\n",
    "        query_doc = self.process_text_(query)\n",
    "        \n",
    "        # idf: shape: (V, 1)\n",
    "        # doc_tf: (1, V)\n",
    "        # q_tf_idf: (V, 1)\n",
    "        q_tf_idf = self.idf.multiply(query_doc.tf_vec.T)\n",
    "        ranked_docs = SortedList()\n",
    "        doc_ids = set.union(*[self.posting_list[word] \n",
    "                                  for word in query_doc.tokens])\n",
    "        for doc_id in doc_ids:\n",
    "            doc = self.docs[doc_id]\n",
    "            doc_tf_idf = self.tf_idf[doc_id]\n",
    "            sim = cosine_similarity(q_tf_idf.T, doc_tf_idf)\n",
    "            ranked_docs.add((-sim, doc))\n",
    "        \n",
    "        return [tup[1] for tup in ranked_docs]\n",
    "    \n",
    "    def tokenize_(self, text):\n",
    "        return [word for word in word_tokenize(text) \n",
    "                      if word.isalnum()]\n",
    "    \n",
    "    def process_(self, tokens):\n",
    "        return [self.proc_token(t) for t in tokens]\n",
    "        \n",
    "    def process_text_(self, text):\n",
    "        tokenized_text = self.tokenize_(text)\n",
    "        tokenized_text = self.process_(tokenized_text)\n",
    "        return Document(tokenized_text, self.word2id)\n",
    "        \n",
    "    def process_corpus_(self):\n",
    "        t1 = time.time()\n",
    "        self.docs = []\n",
    "        # 1 for UNK\n",
    "        self.idf = dict({0: 1})\n",
    "        self.word2id = dict()\n",
    "        self.id2word = dict()\n",
    "        self.cord2id = dict()\n",
    "        self.id2cord = dict()\n",
    "        self.posting_list = dict()\n",
    "        # posting_list: key: string, value: set\n",
    "        word_index = 1\n",
    "        doc_index = 0\n",
    "        for i in range(len(self.corpus)):\n",
    "            if i % 10_000 == 1:\n",
    "                dt = time.time()-t1\n",
    "                t1 = time.time()\n",
    "                print(\"{}%, time: {}\".format(i/len(self.corpus)*100, dt), flush=True)\n",
    "                \n",
    "            cord_uid = data[\"cord_uid\"][i]\n",
    "            title = self.corpus[\"title\"][i]\n",
    "            abstract = self.corpus[\"abstract\"][i]\n",
    "            if type(title).__name__==\"float\" or type(abstract).__name__ == \"float\":\n",
    "                # ABSTRACT DOES NOT EXIST: SKIP FOR NOW\n",
    "                continue\n",
    "            text= title + \" \" + abstract\n",
    "            tokenized_text = self.tokenize_(text)\n",
    "            tokenized_text = self.process_(tokenized_text)\n",
    "            for word in tokenized_text:\n",
    "                # add word to dictionary\n",
    "                if word not in self.word2id:\n",
    "                    self.word2id[word] = word_index\n",
    "                    self.id2word[word_index] = word\n",
    "                    word_index += 1\n",
    "                # add doc to posting_list\n",
    "                if word not in self.posting_list:\n",
    "                    self.posting_list[word] = set()\n",
    "                self.posting_list[word].add(doc_index)\n",
    "                \n",
    "            if cord_uid not in self.cord2id:\n",
    "                self.cord2id[cord_uid] = doc_index\n",
    "                self.id2cord[doc_index] = cord_uid\n",
    "                doc_index += 1\n",
    "                \n",
    "            doc = Document(tokenized_text, word2id=None, \n",
    "                           doc_id=self.cord2id[cord_uid], \n",
    "                           cord_uid=cord_uid, title=title, \n",
    "                           abstract=abstract)\n",
    "            self.docs.append(doc)\n",
    "            for word, tf in doc.tf_dict.items():\n",
    "                index = self.word2id[word]\n",
    "                if index not in self.idf: \n",
    "                    self.idf[index] = 0\n",
    "                self.idf[index] += 1\n",
    "        \n",
    "        # idf: (V, 1);\n",
    "        for doc in self.docs:\n",
    "            doc.tf_vec = doc.get_tf_vector_(self.word2id)\n",
    "        N = len(self.corpus)\n",
    "        self.idf = np.array(list(zip(*sorted(self.idf.items())))[1])\n",
    "        self.idf = scipy.sparse.csr_matrix(np.log10(N/self.idf)).T\n",
    "        # tf: (N, V)\n",
    "        self.doc_tf = scipy.sparse.vstack([doc.tf_vec for doc in self.docs])\n",
    "        # tf_idf: (N, V)\n",
    "        self.tf_idf = (self.idf.multiply(self.doc_tf.T)).T\n",
    "        \n",
    "\n",
    "              "
   ]
  },
  {
   "cell_type": "code",
   "execution_count": null,
   "metadata": {
    "scrolled": true
   },
   "outputs": [],
   "source": [
    "trec_ir = TrecIR(data)"
   ]
  },
  {
   "cell_type": "code",
   "execution_count": 114,
   "metadata": {
    "scrolled": false
   },
   "outputs": [
    {
     "name": "stdout",
     "output_type": "stream",
     "text": [
      "h3yxymh3\n",
      "Using Satellite Images of Environmental Changes to Predict Infectious Disease Outbreaks\n",
      "Recent events clearly illustrate a continued vulnerability of large populations to infectious diseases, which is related to our changing human-constructed and natural environments. A single person with multidrug-resistant tuberculosis in 2007 provided a wake-up call to the United States and global public health infrastructure, as the health professionals and the public realized that today’s ease of airline travel can potentially expose hundreds of persons to an untreatable disease associated with an infectious agent. Ease of travel, population increase, population displacement, pollution, agricultural activity, changing socioeconomic structures, and international conflicts worldwide have each contributed to infectious disease events. Today, however, nothing is larger in scale, has more potential for long-term effects, and is more uncertain than the effects of climate change on infectious disease outbreaks, epidemics, and pandemics. We discuss advances in our ability to predict these events and, in particular, the critical role that satellite imaging could play in mounting an effective response.\n",
      "--------------------------------------------------\n",
      "1qo1krxv\n",
      "Disease ecology and the global emergence of zoonotic pathogens\n",
      "The incidence and frequency of epidemic transmission of zoonotic diseases, both known and newly recognized, has increased dramatically in the past 30 years. It is thought that this dramatic disease emergence is primarily the result of the social, demographic, and environmental transformation that has occurred globally since World War II. However, the causal linkages have not been elucidated. Investigating emerging zoonotic pathogens as an ecological phenomenon can provide significant insights as to why some of these pathogens have jumped species and caused major epidemics in humans. A review of concepts and theory from biological ecology and of causal factors in disease emergence previously described suggests a general model of global zoonotic disease emergence. The model links demographic and societal factors to land use and land cover change whose associated ecological factors help explain disease emergence. The scale and magnitude of these changes are more significant than those associated with climate change, the effects of which are largely not yet understood. Unfortunately, the complex character and non-linear behavior of the human-natural systems in which host-pathogen systems are embedded makes specific incidences of disease emergence or epidemics inherently difficult to predict. Employing a complex systems analytical approach, however, may show how a few key ecological variables and system properties, including the adaptive capacity of institutions, explains the emergence of infectious diseases and how an integrated, multi-level approach to zoonotic disease control can reduce risk.\n",
      "--------------------------------------------------\n",
      "zss38mct\n",
      "Distribution and Risk Factors of 2009 Pandemic Influenza A (H1N1) in Mainland China\n",
      "Data from all reported cases of 2009 pandemic influenza A (H1N1) were obtained from the China Information System for Disease Control and Prevention. The spatiotemporal distribution patterns of cases were characterized through spatial analysis. The impact of travel-related risk factors on invasion of the disease was analyzed using survival analysis, and climatic factors related to local transmission were identified using multilevel Poisson regression, both at the county level. The results showed that the epidemic spanned a large geographic area, with the most affected areas being in western China. Significant differences in incidence were found among age groups, with incidences peaking in school-age children. Overall, the epidemic spread from southeast to northwest. Proximity to airports and being intersected by national highways or freeways but not railways were variables associated with the presence of the disease in a county. Lower temperature and lower relative humidity were the climatic factors facilitating local transmission after correction for the effects of school summer vacation and public holidays, as well as population density and the density of medical facilities. These findings indicate that interventions focused on domestic travel, population density, and climatic factors could play a role in mitigating the public health impact of future influenza pandemics.\n",
      "--------------------------------------------------\n",
      "26f0xddj\n",
      "Transmission Potential of Chikungunya Virus and Control Measures: The Case of Italy\n",
      "During summer 2007 Italy has experienced an epidemic caused by Chikungunya virus – the first large outbreak documented in a temperate climate country – with approximately 161 laboratory confirmed cases concentrated in two bordering villages in North–Eastern Italy comprising 3,968 inhabitants. The seroprevalence was recently estimated to be 10.2%. In this work we provide estimates of the transmission potential of the virus and we assess the efficacy of the measures undertaken by public health authorities to control the epidemic spread. To such aim, we developed a model describing the temporal dynamics of the competent vector, known as Aedes albopictus, explicitly depending on climatic factors, coupled to an epidemic transmission model describing the spread of the epidemic in both humans and mosquitoes. The cumulative number of notified cases predicted by the model was 185 on average (95% CI 117–278), in good agreement with observed data. The probability of observing a major outbreak after the introduction of an infective human case was estimated to be in the range of 32%–76%. We found that the basic reproduction number was in the range of 1.8–6 but it could have been even larger, depending on the density of mosquitoes, which in turn depends on seasonal meteorological effects, besides other local abiotic factors. These results confirm the increasing risk of tropical vector–borne diseases in temperate climate countries, as a consequence of globalization. However, our results show that an epidemic can be controlled by performing a timely intervention, even if the transmission potential of Chikungunya virus is sensibly high.\n",
      "--------------------------------------------------\n",
      "s5zr6tvk\n",
      "The Impact of Weather on Influenza and Pneumonia Mortality in New York City, 1975–2002: A Retrospective Study\n",
      "The substantial winter influenza peak in temperate climates has lead to the hypothesis that cold and/or dry air is a causal factor in influenza variability. We examined the relationship between cold and/or dry air and daily influenza and pneumonia mortality in the cold season in the New York metropolitan area from 1975–2002. We conducted a retrospective study relating daily pneumonia and influenza mortality for New York City and surroundings from 1975–2002 to daily air temperature, dew point temperature (a measure of atmospheric humidity), and daily air mass type. We identified high mortality days and periods and employed temporal smoothers and lags to account for the latency period and the time between infection and death. Unpaired t-tests were used to compare high mortality events to non-events and nonparametric bootstrapped regression analysis was used to examine the characteristics of longer mortality episodes. We found a statistically significant (p = 0.003) association between periods of low dew point temperature and above normal pneumonia and influenza mortality 17 days later. The duration (r = −0.61) and severity (r = −0.56) of high mortality episodes was inversely correlated with morning dew point temperature prior to and during the episodes. Weeks in which moist polar air masses were common (air masses characterized by low dew point temperatures) were likewise followed by above normal mortality 17 days later (p = 0.019). This research supports the contention that cold, dry air may be related to influenza mortality and suggests that warning systems could provide enough lead time to be effective in mitigating the effects.\n",
      "--------------------------------------------------\n",
      "3zevsk0w\n",
      "Agricultural intensification, priming for persistence and the emergence of Nipah virus: a lethal bat-borne zoonosis\n",
      "Emerging zoonoses threaten global health, yet the processes by which they emerge are complex and poorly understood. Nipah virus (NiV) is an important threat owing to its broad host and geographical range, high case fatality, potential for human-to-human transmission and lack of effective prevention or therapies. Here, we investigate the origin of the first identified outbreak of NiV encephalitis in Malaysia and Singapore. We analyse data on livestock production from the index site (a commercial pig farm in Malaysia) prior to and during the outbreak, on Malaysian agricultural production, and from surveys of NiV's wildlife reservoir (flying foxes). Our analyses suggest that repeated introduction of NiV from wildlife changed infection dynamics in pigs. Initial viral introduction produced an explosive epizootic that drove itself to extinction but primed the population for enzootic persistence upon reintroduction of the virus. The resultant within-farm persistence permitted regional spread and increased the number of human infections. This study refutes an earlier hypothesis that anomalous El Niño Southern Oscillation-related climatic conditions drove emergence and suggests that priming for persistence drove the emergence of a novel zoonotic pathogen. Thus, we provide empirical evidence for a causative mechanism previously proposed as a precursor to widespread infection with H5N1 avian influenza and other emerging pathogens.\n",
      "--------------------------------------------------\n",
      "wdcmb4x5\n",
      "The geosimulation of West Nile virus propagation: a multi-agent and climate sensitive tool for risk management in public health\n",
      "BACKGROUND: Since 1999, the expansion of the West Nile virus (WNV) epizooty has led public health authorities to build and operate surveillance systems in North America. These systems are very useful to collect data, but cannot be used to forecast the probable spread of the virus in coming years. Such forecasts, if proven reliable, would permit preventive measures to be put into place at the appropriate level of expected risk and at the appropriate time. It is within this context that the Multi-Agent GeoSimulation approach has been selected to develop a system that simulates the interactions of populations of mosquitoes and birds over space and time in relation to the spread and transmission of WNV. This simulation takes place in a virtual mapping environment representing a large administrative territory (e.g. province, state) and carried out under various climate scenarios in order to simulate the effects of vector control measures such as larviciding at scales of 1/20 000 or smaller. RESULTS: After setting some hypotheses, a conceptual model and system architecture were developed to describe the population dynamics and interactions of mosquitoes (genus Culex) and American crows, which were chosen as the main actors in the simulation. Based on a mathematical compartment model used to simulate the population dynamics, an operational prototype was developed for the Southern part of Quebec (Canada). The system allows users to modify the parameters of the model, to select various climate and larviciding scenarios, to visualize on a digital map the progression (on a weekly or daily basis) of the infection in and around the crows' roosts and to generate graphs showing the evolution of the populations. The basic units for visualisation are municipalities. CONCLUSION: In all likelihood this system might be used to support short term decision-making related to WNV vector control measures, including the use of larvicides, according to climatic scenarios. Once fully calibrated in several real-life contexts, this promising approach opens the door to the study and management of other zoonotic diseases such as Lyme disease.\n",
      "--------------------------------------------------\n",
      "25v5mr3c\n",
      "Mitigation Approaches to Combat the Flu Pandemic\n",
      "Management of flu pandemic is a perpetual challenge for the medical fraternity since time immemorial. Animal to human transmission has been observed thrice in the last century within an average range of 11-39 years of antigenic recycling. The recent outbreak of influenza A (H1N1, also termed as swine flu), first reported in Mexico on April 26, 2009, occurred in the forty first year since last reported flu pandemic (July 1968). Within less than 50 days, it has assumed pandemic proportions (phase VI) affecting over 76 countries with 163 deaths/35,928 cases (as on 15(th) June 2009). It indicated the re-emergence of genetically reassorted virus having strains endemic to humans, swine and avian (H5N1). The World Health Organisation (WHO) member states have already pulled up their socks and geared up to combat such criticalities. Earlier outbreaks of avian flu (H5N1) in different countries led WHO to develop pandemic preparedness strategies with national/regional plans on pandemic preparedness. Numerous factors related to climatic conditions, socio-economic strata, governance and sharing of information/logistics at all levels have been considered critical indicators in monitoring the dynamics of escalation towards a pandemic situation. The National Disaster Management Authority (NDMA), Government of India, with the active cooperation of UN agencies and other stakeholders/experts has formulated a concept paper on role of nonhealth service providers during pandemics in April 2008 and released national guidelines - management of biological disasters in July 2008. These guidelines enumerate that the success of medical management endeavors like pharmaceutical (anti-viral Oseltamivir and Zanamivir therapies), nonpharmaceutical interventions and vaccination development etc., largely depends on level of resistance offered by mutagenic viral strain and rationale use of pharmaco therapeutic interventions. This article describes the mitigation approach to combat flu pandemic with its effective implementation at national, state and local levels.\n",
      "--------------------------------------------------\n",
      "gbdaad4l\n",
      "Let the sun shine in: effects of ultraviolet radiation on invasive pneumococcal disease risk in Philadelphia, Pennsylvania\n",
      "BACKGROUND: Streptococcus pneumoniae is a common cause of community acquired pneumonia and bacteremia. Excess wintertime mortality related to pneumonia has been noted for over a century, but the seasonality of invasive pneumococcal disease (IPD) has been described relatively recently and is poorly understood. Improved understanding of environmental influence on disease seasonality has taken on new urgency due to global climate change. METHODS: We evaluated 602 cases of IPD reported in Philadelphia County, Pennsylvania, from 2002 to 2007. Poisson regression models incorporating seasonal smoothers were used to identify associations between weekly weather patterns and case counts. Associations between acute (day-to-day) environmental fluctuations and IPD occurrence were evaluated using a case-crossover approach. Effect modification across age and sex strata was explored, and meta-regression models were created using stratum-specific estimates for effect. RESULTS: IPD incidence was greatest in the wintertime, and spectral decomposition revealed a peak at 51.0 weeks, consistent with annual periodicity. After adjustment for seasonality, yearly increases in reporting, and temperature, weekly incidence was found to be associated with clear-sky UV index (IRR per unit increase in index: 0.70 [95% CI 0.54-0.91]). The effect of UV index was highest among young strata and decreased with age. At shorter time scales, only an association with increases in ambient sulphur oxides was linked to disease risk (OR for highest tertile of exposure 0.75, 95% CI 0.60 to 0.93). CONCLUSION: We confirmed the wintertime predominance of IPD in a major urban center. The major predictor of IPD in Philadelphia is extended periods of low UV radiation, which may explain observed wintertime seasonality. The mechanism of action of diminished light exposure on disease occurrence may be due to direct effects on pathogen survival or host immune function via altered 1,25-(OH)(2)-vitamin-D metabolism. These findings may suggest less diminution in future IPD risk with climate change than would be expected if wintertime seasonality was driven by temperature.\n",
      "--------------------------------------------------\n"
     ]
    }
   ],
   "source": [
    "query = \"climates\" # this if for test#qeuries = get_queries() # TODO: use the topic doc to get queries\n",
    "docs = trec_ir.get_ranked_docs(query) #TODO\n",
    "for doc in docs:\n",
    "    print(doc.cord_uid)\n",
    "    print(doc.title)\n",
    "    print(doc.abstract)\n",
    "    print(\"-\"*50)"
   ]
  }
 ],
 "metadata": {
  "kernelspec": {
   "display_name": "Python 3",
   "language": "python",
   "name": "python3"
  },
  "language_info": {
   "codemirror_mode": {
    "name": "ipython",
    "version": 3
   },
   "file_extension": ".py",
   "mimetype": "text/x-python",
   "name": "python",
   "nbconvert_exporter": "python",
   "pygments_lexer": "ipython3",
   "version": "3.7.4"
  }
 },
 "nbformat": 4,
 "nbformat_minor": 2
}
